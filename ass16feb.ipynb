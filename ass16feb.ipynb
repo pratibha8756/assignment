{
 "cells": [
  {
   "cell_type": "code",
   "execution_count": null,
   "id": "ae71f24f-368b-42ec-b72c-c9c84c5b4e3d",
   "metadata": {},
   "outputs": [],
   "source": [
    "# Q1.What is a database ?Differentiate between SQL and NoSQL database."
   ]
  },
  {
   "cell_type": "code",
   "execution_count": 1,
   "id": "2a03c7b6-fc6e-4139-8c75-b4de8dcb8a2b",
   "metadata": {},
   "outputs": [
    {
     "ename": "SyntaxError",
     "evalue": "invalid syntax (3392051723.py, line 2)",
     "output_type": "error",
     "traceback": [
      "\u001b[0;36m  Cell \u001b[0;32mIn[1], line 2\u001b[0;36m\u001b[0m\n\u001b[0;31m    A database is an organized collection of data, so that it can be easily accessed and managed.\u001b[0m\n\u001b[0m      ^\u001b[0m\n\u001b[0;31mSyntaxError\u001b[0m\u001b[0;31m:\u001b[0m invalid syntax\n"
     ]
    }
   ],
   "source": [
    "# ans 1:\n",
    "A database is an organized collection of data, so that it can be easily accessed and managed.\n",
    "\n",
    "You can organize data into tables, rows, columns, and index it to make it easier to find relevant information.\n",
    "\n",
    "Database handlers create a database in such a way that only one set of software program provides access of data to all the users.\n",
    "\n",
    "The main purpose of the database is to operate a large amount of information by storing, retrieving, and managing data.\n",
    "\n",
    "There are many dynamic websites on the World Wide Web nowadays which are handled through databases. For example, a model that checks the availability of rooms in a hotel. It is an example of a dynamic website that uses a database.\n",
    "\n",
    "There are many databases available like MySQL, Sybase, Oracle, MongoDB, Informix, PostgreSQL, SQL Server, etc.\n",
    "\n",
    "SQL\n",
    "\n",
    "1.Relational database management system(RDBMS)\n",
    "2.These database have fixed or static or predefined schema\n",
    "3.These database are not suited for hierarchical data storage.\n",
    "4.These database are best suited for complex queries\n",
    "5.Vertically Scalable\n",
    "6.Follows ACID property\n",
    "\n",
    "NoSQL\n",
    "\n",
    "1.Non-relational or distributed database system.\n",
    "2.They have dynamic schema\n",
    "3.These database are best suited for hierarchical data storage.\n",
    "4.These database are best suited for hierarchical data storage.\n",
    "5.Horizontally scalable"
   ]
  },
  {
   "cell_type": "code",
   "execution_count": null,
   "id": "e8c5e660-9cb4-47b0-a36a-3d05d87b9d30",
   "metadata": {},
   "outputs": [],
   "source": [
    "Q2.What is DDL?Explain why CREATE,DROP,ALTER,and TRUNCATE are used with an example."
   ]
  },
  {
   "cell_type": "code",
   "execution_count": null,
   "id": "6d0bba79-7990-4203-af03-79c55bf7c250",
   "metadata": {},
   "outputs": [],
   "source": [
    "# ans 2\n",
    "A data definition language (DDL) is a computer language used to create and modify the structure of database objects in a database. These database objects include views, schemas, tables, indexes, etc.\n",
    "ommonly used DDL in SQL querying are CREATE, ALTER, DROP, and TRUNCATE.\n",
    "Create\n",
    "This command builds a new table and has a predefined syntax.\n",
    "CREATE TABLE [table name ]([column definitions])[table parameters];\n",
    "CREATE TABLE Employee (Employee Id INTEGER PRIMARY KEY, First name CHAR (50) NULL, Last name CHAR (75) NOT NULL);\n",
    "\n",
    "Drop \n",
    "A drop command is used to delete objects such as a table, index or view. A DROP statement cannot be rolled back, so once an object is destroyed, there’s no way to recover it.\n",
    "\n",
    "Drop statement syntax is:\n",
    "\n",
    "DROP object type object name;\n",
    "\n",
    "For example:\n",
    "\n",
    "DROP TABLE Employee;\n",
    "\n",
    "In this example, we’re deleting the Employee table.\n",
    "\n",
    "Truncate\n",
    "Similar to DROP, the TRUNCATE statement is used to quickly remove all records from a table. However, unlike DROP that completely destroys a table, TRUNCATE preserves its full structure to be reused later.\n",
    "\n",
    "Truncate statement syntax is:\n",
    "\n",
    "TRUNCATE TABLE table_name;\n",
    "\n",
    "For example:\n",
    "\n",
    "TRUNCATE TABLE Employee;\n",
    "\n",
    "Alter\n",
    "An alter command modifies an existing database table. This command can add up additional column, drop existing columns and even change the data type of columns involved in a database table.\n",
    "\n",
    "An alter command syntax is:\n",
    "\n",
    "ALTER object type object name parameters;\n",
    "\n",
    "For example:\n",
    "\n",
    "ALTER TABLE Employee ADD PRIMARY KEY (employee_pk);\n",
    "\n",
    "In this example, we added a unique primary key to the table to add a constraint and enforce a unique value. The constraint “employee_pk” is a primary key and is on the Employee table."
   ]
  },
  {
   "cell_type": "code",
   "execution_count": null,
   "id": "ab07867b-9590-4739-85a6-e66c156035d1",
   "metadata": {},
   "outputs": [],
   "source": [
    "# Q3.What is DML?Explain INSERT,UPDATE,and DELETE with an example."
   ]
  },
  {
   "cell_type": "code",
   "execution_count": null,
   "id": "64c854fc-28e8-45af-8acd-640c3f6c5046",
   "metadata": {},
   "outputs": [],
   "source": [
    "# Ans 3.\n",
    "DML is an abbreviation of Data Manipulation Language.\n",
    "\n",
    "The DML commands in Structured Query Language change the data present in the SQL database. We can easily access, store, modify, update and delete the existing records from the database using DML commands.\n",
    "INSERT \n",
    "INSERT is another most important data manipulation command in Structured Query Language, which allows users to insert data in database tables.\n",
    "INSER INTO TABLE_NAME(column_name1,column_name2,column_name3.......column_nameN)\n",
    "\n",
    "UPDATE DML Command\n",
    "UPDATE is another most important data manipulation command in Structured Query Language, which allows users to update or modify the existing data in database tables.\n",
    "PDATE Table_name SET [column_name1= value_1, ….., column_nameN = value_N] WHERE CONDITION;  \n",
    "\n",
    "DELETE \n",
    "DELETE is a DML command which allows SQL users to remove single or multiple existing records from the database tables.\n",
    "\n",
    "This command of Data Manipulation Language does not delete the stored data permanently from the database. We use the WHERE clause with the DELETE command to select specific rows from the table.\n",
    "DELETE FROM Table_Name WHERE condition;"
   ]
  },
  {
   "cell_type": "code",
   "execution_count": null,
   "id": "11bf9ab2-0b60-4541-8286-b0547d8b53b6",
   "metadata": {},
   "outputs": [],
   "source": [
    "# Q4.What is DQL?Explain SELECT with an example."
   ]
  },
  {
   "cell_type": "code",
   "execution_count": null,
   "id": "29579255-5ea3-4a2a-83ff-814fd8f50863",
   "metadata": {},
   "outputs": [],
   "source": [
    "# ans 4\n",
    "DQL commands are basically SELECT statements. SELECT statements let you query the database to find information in one or more tables, and return the query as a result set. A result set is an array structure; or more precisely, a result set is a two-dimensional array. The internal index for each row of data is the rowid pseudo-column, which maps to the physical address for where the data is written.\n"
   ]
  },
  {
   "cell_type": "code",
   "execution_count": null,
   "id": "d13a2c4d-99e5-43a2-bf97-3c5c376c9cb6",
   "metadata": {},
   "outputs": [],
   "source": [
    "# Q5.Explain Primary key and foreign key."
   ]
  },
  {
   "cell_type": "code",
   "execution_count": null,
   "id": "6378c886-91ef-4d74-b200-e3aae43f5fcc",
   "metadata": {},
   "outputs": [],
   "source": [
    "# ans 5\n",
    "Primary key \n",
    "A primary key is used to ensure that data in the specific column is unique. A column cannot have NULL values. It is either an existing table column or a column that is specifically generated by the database according to a defined sequence. \n",
    "Foreign key \n",
    "A foreign key is a column or group of columns in a relational database table that provides a link between data in two tables. It is a column (or columns) that references a column (most often the primary key) of another table. "
   ]
  },
  {
   "cell_type": "code",
   "execution_count": null,
   "id": "33cd3a3b-3b7b-4b68-8abb-c1af9f6eef4b",
   "metadata": {},
   "outputs": [],
   "source": [
    "# Q6.Write a python code to connect MySQL to python .Explain the cursor() and execute() method."
   ]
  },
  {
   "cell_type": "code",
   "execution_count": null,
   "id": "259eff69-dc97-4360-9e78-d5ef4858f1a7",
   "metadata": {},
   "outputs": [],
   "source": [
    "import mysql.connector\n",
    "\tdb_connection = mysql.connector.connect(\n",
    "  \thost=\"hostname\",\n",
    "  \tuser=\"username\",\n",
    "  \tpasswd=\"password\"\n",
    "    )\n",
    "    \n",
    "Cursor()\n",
    "A cursor is an object which helps to execute the query and fetch the records from the database. The cursor plays a very important role in executing the query. This article will learn some deep information about the execute methods and how to use those methods in python.\n",
    "#python cursor_object.py\n",
    "\n",
    "#import the library\n",
    "import mysql.connector\n",
    "\n",
    "# creating connection\n",
    "conn = mysql.connector.connect(\n",
    "  host=\"localhost\",\n",
    "  user=\"sammy\",\n",
    "  password=\"password\"\n",
    ")\n",
    "#print the connection\n",
    "print(conn)\n",
    "# import the cursor from the connection (conn)\n",
    "\n",
    "mycursor = conn.cursor()\n",
    "#print the mycursor\n",
    "print(mycursor)\n",
    "\n",
    "\n",
    "exec()\n",
    "exec() function is used for the dynamic execution of Python programs which can either be a string or object code. If it is a string, the string is parsed as a suite of Python statements which is then executed unless a syntax error occurs and if it is an object code, it is simply executed. We must be careful that the return statements may not be used outside of function definitions not even within the context of code passed to the exec() function. It doesn’t return any value, hence returns None. \n",
    "prog = 'print(\"The sum of 5 and 10 is\", (5+10))'\n",
    "exec(prog)"
   ]
  }
 ],
 "metadata": {
  "kernelspec": {
   "display_name": "Python 3 (ipykernel)",
   "language": "python",
   "name": "python3"
  },
  "language_info": {
   "codemirror_mode": {
    "name": "ipython",
    "version": 3
   },
   "file_extension": ".py",
   "mimetype": "text/x-python",
   "name": "python",
   "nbconvert_exporter": "python",
   "pygments_lexer": "ipython3",
   "version": "3.10.8"
  }
 },
 "nbformat": 4,
 "nbformat_minor": 5
}
