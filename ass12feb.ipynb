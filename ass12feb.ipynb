{
 "cells": [
  {
   "cell_type": "code",
   "execution_count": null,
   "id": "4e0eef0d-8bc2-4428-ba8b-daf0c72ca908",
   "metadata": {},
   "outputs": [],
   "source": [
    "# Q1.What is an exception in python? write the differnce between Exceptions and syntax errors."
   ]
  },
  {
   "cell_type": "code",
   "execution_count": null,
   "id": "852915b9-5932-4f54-898b-9188d9d1ab9e",
   "metadata": {},
   "outputs": [],
   "source": [
    "# ans.1\n",
    "An Exception is an error that happens during the execution of a program. whenever there is an error, python generates an exception that could be handled.it basically prevents the program from getting crashed.\n",
    "Errors are the problems in a program due to which the program will stop the execution. On the other hand, exceptions are raised when some internal events occur which changes the normal flow of the program. \n",
    "Two types of Error occurs in python. \n",
    " \n",
    "\n",
    "1.Syntax errors\n",
    "When the proper syntax of the language is not followed then a syntax error is thrown.\n",
    "\n",
    "2.Logical errors (Exceptions)\n",
    "When in the runtime an error that occurs after passing the syntax test is called exception or logical type. For example, when we divide any number by zero then the ZeroDivisionError exception is raised, or when we import a module that does not exist then ImportError is raised.\n"
   ]
  },
  {
   "cell_type": "code",
   "execution_count": null,
   "id": "3c26e40c-006b-40c5-bc36-c8eb40f97894",
   "metadata": {},
   "outputs": [],
   "source": [
    "# Q2.what happens when an exception is not handled?explain with an example."
   ]
  },
  {
   "cell_type": "code",
   "execution_count": null,
   "id": "a43f50c6-fd6b-4f0e-b028-af64b2ed3786",
   "metadata": {},
   "outputs": [],
   "source": [
    "# ans 2\n",
    "An exception is an issue (run time error) occurred during the execution of a program. For understanding purpose let us look at it in a different manner.\n",
    "\n",
    "Generally, when you compile a program, if it gets compiled without a .class file will be created, this is the executable file in Java, and every time you execute this .class file it is supposed to run successfully executing each line in the program without any issues.\n",
    "But, in some exceptional cases, while executing the program, JVM encounters some ambiguous scenarios where it doesn’t know what to do.\n",
    "Here are some example scenarios −\n",
    "\n",
    "If you have an array of size 10 if a line in your code tries to access the 11th element in this array.\n",
    "If you are trying to divide a number with 0 which (results to infinity and JVM doesn’t understand how to valuate it).\n",
    "Such cases are known as exceptions. Each possible exception is represented by a predefined class you can find all the classes of exception in java.lang package. You can also define your own exception.\n",
    "\n",
    "Certain exceptions are prompted at compile time and are known as compile time exceptions or, checked exceptions.\n",
    "try:\n",
    "    numerator = 10\n",
    "    denominator = 0\n",
    "\n",
    "    result = numerator/denominator\n",
    "\n",
    "    print(result)\n",
    "except:\n",
    "    print(\"Error: Denominator cannot be 0.\")\n",
    "\n",
    "# Output: Error: Denominator cannot be 0. \n",
    "\n",
    "try:\n",
    "    \n",
    "    even_numbers = [2,4,6,8]\n",
    "    print(even_numbers[5])\n",
    "\n",
    "except ZeroDivisionError:\n",
    "    print(\"Denominator cannot be 0.\")\n",
    "    \n",
    "except IndexError:\n",
    "    print(\"Index Out of Bound.\")\n",
    "\n",
    "# Output: Index Out of Bound"
   ]
  },
  {
   "cell_type": "code",
   "execution_count": null,
   "id": "3db592f4-c983-4102-a541-331119b5a2bf",
   "metadata": {},
   "outputs": [],
   "source": [
    "# Q3. which python statements are used to catch and handle exceptions? Exaplain with an example.\n",
    "For exception handling, most current programming languages employ a mechanism known as “try-catch.” Exceptions in Python can be managed with a try statement. This prevents the program from exiting abruptly in the event of an error. The basic form in Python is the “Python try except.” The try clause contains the critical operation that can cause an exception. The except clause contains the code that handles exceptions.\n",
    "\n",
    "The try block allows you to check for mistakes in a block of code. The except block allows you to handle errors with a custom response.\n",
    "\n",
    "def divide(x, y):\n",
    "      try:\n",
    "             res = x / y\n",
    "             print('Your answer is :', res)\n",
    "      except ZeroDivisionError:\n",
    "             print('Sorry! You are dividing by zero')\n",
    "\n",
    "divide(5, 0)\n"
   ]
  },
  {
   "cell_type": "code",
   "execution_count": null,
   "id": "4df30013-7b27-4ffd-b17b-ceb131f6c06d",
   "metadata": {},
   "outputs": [],
   "source": [
    "# Q4.Explain with an example.\n",
    "# a.try and else\n",
    "# b.finally\n",
    "# c.raise"
   ]
  },
  {
   "cell_type": "code",
   "execution_count": null,
   "id": "628b8de9-8bf5-459f-92dc-c32c2f76d2df",
   "metadata": {},
   "outputs": [],
   "source": [
    "# ans 4\n",
    "Python also supports the else clause, which should come after every except clause, in the try, and except blocks.\n",
    "Only when the try clause fails to throw an exception the Python interpreter goes on to the else block.\n",
    "\n",
    "try and else\n",
    "\n",
    "def reciproacal (num1):\n",
    "    try:\n",
    "        reci=1/num1\n",
    "    except ZeroDivisionError:\n",
    "        print(\"we cannot divide by zero\")\n",
    "    else:\n",
    "        print(reci)\n",
    "\n",
    "reciproacal(4)\n",
    "reciproacal(0)\n",
    "\n",
    "# b finally\n",
    "try:\n",
    "    div=4//0\n",
    "    print(div)\n",
    "except ZeroDivisionError:\n",
    "    print(\"Atepting to divide by zero\")\n",
    "\n",
    "finally:\n",
    "    print(\"this is code of finallyy clause\")\n",
    "    \n",
    "# c raise\n",
    "x=-1\n",
    "if x<0:\n",
    "    raise Exception(\"Sorry , no numbers below zero\")"
   ]
  },
  {
   "cell_type": "code",
   "execution_count": null,
   "id": "42a270e5-6c64-442e-8244-8399bbb215b3",
   "metadata": {},
   "outputs": [],
   "source": [
    "# Q5.What are custom exceptions in python ? why do we need custom exception ?explain with an example.\n"
   ]
  },
  {
   "cell_type": "code",
   "execution_count": null,
   "id": "0a7feb05-8e80-43e5-9127-aaeeac49dcda",
   "metadata": {},
   "outputs": [],
   "source": [
    "# ans 5\n",
    "To create a custom exception class, you define a class that inherits from the built-in Exception class or one of its subclasses such as ValueError class:\n",
    "    class CustomException(Exception):\n",
    "    \"\"\" my custom exception class \"\"\"\n",
    "\n",
    "\n",
    "try:\n",
    "    raise CustomException('This is my custom exception')\n",
    "except CustomException as ex:\n",
    "    print(ex)\n",
    "    \n",
    "se custom exceptions in your projects. Leave built-in exceptions to typical situations in which they are raised, and raise custom ones to inform what went wrong in relation to the application, not the code itself"
   ]
  },
  {
   "cell_type": "code",
   "execution_count": null,
   "id": "75ea5327-6c2a-451d-86c1-22fdc3e31c5e",
   "metadata": {},
   "outputs": [],
   "source": [
    "# Q6.Create a custom exception class.Use this class to handle an exception."
   ]
  },
  {
   "cell_type": "code",
   "execution_count": null,
   "id": "573cc6d4-78c6-4d3d-b65c-64d6082b5606",
   "metadata": {},
   "outputs": [],
   "source": [
    "class CustomError(Exception):\n",
    "    ...\n",
    "    pass\n",
    "\n",
    "try:\n",
    "   ...\n",
    "\n",
    "except CustomError:\n",
    "    ...\n",
    "# define Python user-defined exceptions\n",
    "class InvalidAgeException(Exception):\n",
    "    \"Raised when the input value is less than 18\"\n",
    "    pass\n",
    "\n",
    "# you need to guess this number\n",
    "number = 18\n",
    "\n",
    "try:\n",
    "    input_num = int(input(\"Enter a number: \"))\n",
    "    if input_num < number:\n",
    "        raise InvalidAgeException\n",
    "    else:\n",
    "        print(\"Eligible to Vote\")\n",
    "        \n",
    "except InvalidAgeException:\n",
    "    print(\"Exception occurred: Invalid Age\")"
   ]
  }
 ],
 "metadata": {
  "kernelspec": {
   "display_name": "Python 3 (ipykernel)",
   "language": "python",
   "name": "python3"
  },
  "language_info": {
   "codemirror_mode": {
    "name": "ipython",
    "version": 3
   },
   "file_extension": ".py",
   "mimetype": "text/x-python",
   "name": "python",
   "nbconvert_exporter": "python",
   "pygments_lexer": "ipython3",
   "version": "3.10.8"
  }
 },
 "nbformat": 4,
 "nbformat_minor": 5
}
