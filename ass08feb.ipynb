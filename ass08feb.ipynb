{
 "cells": [
  {
   "cell_type": "code",
   "execution_count": null,
   "id": "d6b041ad-7d5c-43f8-8549-e040494b8acc",
   "metadata": {},
   "outputs": [],
   "source": [
    "# Q1. What is Abstraction in OOps? Explain with an example."
   ]
  },
  {
   "cell_type": "code",
   "execution_count": null,
   "id": "59e77067-9fd6-4cf1-b7fd-8cf80c6797aa",
   "metadata": {},
   "outputs": [],
   "source": [
    "# Ans 1.\n",
    "Abstraction is the process of hiding the internal details of an application from the outer world. \n",
    "Abstraction is used to describe things in simple terms.\n",
    "It’s used to create a boundary between the application and the client programs.\n",
    "\n",
    "class Person:\n",
    "    def __init__(self):\n",
    "        self.name = \"Jack Matte\"\n",
    "\n",
    "    def bio(self):\n",
    "        self.addr = \"Bakers street, London\"\n",
    "        self.taxInfo = \"HUAPK29971\"\n",
    "        self.contact = \"01-777-523-342\"\n",
    "        print(self.addr, self.taxInfo, self.contact)\n",
    "\n",
    "    def interest(self):\n",
    "        self.favFood = \"Chinese\"\n",
    "        self.hobbies = \"Python Programming\"\n",
    "        self.bloodGroup = \"A+\"\n",
    "        print(self.favFood, self.hobbies, self.bloodGroup)\n",
    "\n",
    "obj = Person()\n",
    "print(obj.name)\n",
    "obj.bio()\n",
    "obj.interest()"
   ]
  },
  {
   "cell_type": "code",
   "execution_count": null,
   "id": "0abcf80a-cdb9-4f08-8ed7-1835f4225947",
   "metadata": {},
   "outputs": [],
   "source": [
    "# Q2. Differentiate between Abstraction and Encapsulation. Explain with an example."
   ]
  },
  {
   "cell_type": "code",
   "execution_count": null,
   "id": "6deb63d8-4432-4871-939b-3a92fbe58b83",
   "metadata": {},
   "outputs": [],
   "source": [
    "Abstraction:-\n",
    "-->Abstraction is the process or method of gaining the information.\n",
    "\n",
    "-->In abstraction, problems are solved at the design or interface level.\n",
    "\n",
    "-->Abstraction is the method of hiding the unwanted information.\n",
    "\n",
    "-->We can implement abstraction using abstract class and interfaces.\n",
    "\n",
    "-->In abstraction, implementation complexities are hidden using abstract classes and interfaces.\n",
    "\n",
    "-->The objects that help to perform abstraction are encapsulated.\n",
    "\n",
    "-->Abstraction provides access to specific part of data.\n",
    "\n",
    "-->Abstraction focus is on “what” should be done.\n",
    "\n",
    "Encapsulation\n",
    "\n",
    "-->While encapsulation is the process or method to contain the information.\n",
    "\n",
    "-->While in encapsulation, problems are solved at the implementation level.\n",
    "\n",
    "-->Whereas encapsulation is a method to hide the data in a single entity or unit along with a method to protect information from outside.\n",
    "\n",
    "-->Whereas encapsulation can be implemented using by access modifier i.e. private, protected and public.\n",
    "\n",
    "-->While in encapsulation, the data is hidden using methods of getters and setters.\n",
    "\n",
    "-->Whereas the objects that result in encapsulation need not be abstracted.\n",
    "\n",
    "-->Encapsulation hides data and the user can not access same directly (data hiding.\n",
    "                                                                    \n",
    "-->Encapsulation focus is on “How” it should be done."
   ]
  },
  {
   "cell_type": "code",
   "execution_count": null,
   "id": "ed966514-c006-433e-aad9-11e2088c3224",
   "metadata": {},
   "outputs": [],
   "source": [
    "# Q3. What is abc module in python? Why is it used?"
   ]
  },
  {
   "cell_type": "code",
   "execution_count": null,
   "id": "cdb24de2-7d71-4a86-815d-4f3fa0e06ff7",
   "metadata": {},
   "outputs": [],
   "source": [
    "# ans 3:-\n",
    "The 'abc' module in Python library provides the infrastructure for defining custom abstract base classes.\n",
    "\n",
    "'abc' works by marking methods of the base class as abstract. This is done by @absttractmethod decorator.\n",
    "\n",
    "import abc\n",
    "class Shape(metaclass=abc.ABCMeta):\n",
    "   @abc.abstractmethod\n",
    "   def area(self):\n",
    "      pass\n",
    "class Rectangle(Shape):\n",
    "   def __init__(self, x,y):\n",
    "      self.l = x\n",
    "      self.b=y\n",
    "   def area(self):\n",
    "      return self.l*self.b\n",
    "r = Rectangle(10,20)\n",
    "print ('area: ',r.area())"
   ]
  },
  {
   "cell_type": "code",
   "execution_count": null,
   "id": "601cf37b-a05f-4acc-a936-400f4f4f744e",
   "metadata": {},
   "outputs": [],
   "source": [
    "# Q4. How can we achieve data abstraction?"
   ]
  },
  {
   "cell_type": "code",
   "execution_count": null,
   "id": "c468c777-7473-48f2-8fd6-277baa1762fb",
   "metadata": {},
   "outputs": [],
   "source": [
    "# ans 4;-\n",
    "In java, abstraction is achieved by interfaces and abstract classes. We can achieve 100% abstraction using interfaces.\n",
    "An abstract class is a class that is declared with an abstract keyword.\n",
    "An abstract method is a method that is declared without implementation.\n",
    "An abstract class may or may not have all abstract methods. Some of them can be concrete methods\n",
    "A method-defined abstract must always be redefined in the subclass, thus making overriding compulsory or making the subclass itself abstract.\n",
    "Any class that contains one or more abstract methods must also be declared with an abstract keyword.\n",
    "There can be no object of an abstract class. That is, an abstract class can not be directly instantiated with the new operator.\n",
    "An abstract class can have parameterized constructors and the default constructor is always present in an abstract class."
   ]
  },
  {
   "cell_type": "code",
   "execution_count": null,
   "id": "16f58a89-9408-4401-969c-52ae6dbb3603",
   "metadata": {},
   "outputs": [],
   "source": [
    "# Q5. Can we create an instance of an abstract class? Explain your answer."
   ]
  },
  {
   "cell_type": "code",
   "execution_count": null,
   "id": "d58e3407-39d4-4145-ae83-1cbe31d37935",
   "metadata": {},
   "outputs": [],
   "source": [
    "# Python program showing\n",
    "# abstract base class work\n",
    "\n",
    "from abc import ABC, abstractmethod\n",
    "\n",
    "class Polygon(ABC):\n",
    "\n",
    "\t@abstractmethod\n",
    "\tdef noofsides(self):\n",
    "\t\tpass\n",
    "\n",
    "class Triangle(Polygon):\n",
    "\n",
    "\t# overriding abstract method\n",
    "\tdef noofsides(self):\n",
    "\t\tprint(\"I have 3 sides\")\n",
    "\n",
    "class Pentagon(Polygon):\n",
    "\n",
    "\t# overriding abstract method\n",
    "\tdef noofsides(self):\n",
    "\t\tprint(\"I have 5 sides\")\n",
    "\n",
    "class Hexagon(Polygon):\n",
    "\n",
    "\t# overriding abstract method\n",
    "\tdef noofsides(self):\n",
    "\t\tprint(\"I have 6 sides\")\n",
    "\n",
    "class Quadrilateral(Polygon):\n",
    "\n",
    "\t# overriding abstract method\n",
    "\tdef noofsides(self):\n",
    "\t\tprint(\"I have 4 sides\")\n",
    "\n",
    "# Driver code\n",
    "R = Triangle()\n",
    "R.noofsides()\n",
    "\n",
    "K = Quadrilateral()\n",
    "K.noofsides()\n",
    "\n",
    "R = Pentagon()\n",
    "R.noofsides()\n",
    "\n",
    "K = Hexagon()\n",
    "K.noofsides()\n"
   ]
  }
 ],
 "metadata": {
  "kernelspec": {
   "display_name": "Python 3 (ipykernel)",
   "language": "python",
   "name": "python3"
  },
  "language_info": {
   "codemirror_mode": {
    "name": "ipython",
    "version": 3
   },
   "file_extension": ".py",
   "mimetype": "text/x-python",
   "name": "python",
   "nbconvert_exporter": "python",
   "pygments_lexer": "ipython3",
   "version": "3.10.8"
  }
 },
 "nbformat": 4,
 "nbformat_minor": 5
}
