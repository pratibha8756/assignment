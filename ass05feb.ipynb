{
 "cells": [
  {
   "cell_type": "code",
   "execution_count": null,
   "id": "f80284b5-ebd4-404e-a86c-91d907552913",
   "metadata": {},
   "outputs": [],
   "source": [
    "# Q1. Explain Class and Object with respect to Object-Oriented Programming.\n",
    "Give a suitable example."
   ]
  },
  {
   "cell_type": "code",
   "execution_count": null,
   "id": "d20a23b9-2816-4ccd-864a-e7f80958cbae",
   "metadata": {},
   "outputs": [],
   "source": [
    "# ans 1:-\n",
    "lass are a blueprint or a set of instructions to build a specific type of object. It is a basic concept of Object-Oriented Programming which revolve around the real-life entities.\n",
    "\n",
    "Object is an instance of a class. An object in OOPS is nothing but a self-contained component which consists of methods and properties to make a particular type of data useful. For example color name, table, bag, barking. When you send a message to an object, you are asking the object to invoke or execute one of its methods as defined in the class hierarchies.\n",
    "class ClassName:\n",
    "    # class definition \n",
    "    \n",
    "# define a class\n",
    "class Bike:\n",
    "    name = \"\"\n",
    "    gear = 0\n",
    "\n",
    "# create object of class\n",
    "bike1 = Bike()\n",
    "\n",
    "# access attributes and assign new values\n",
    "bike1.gear = 11\n",
    "bike1.name = \"Mountain Bike\"\n",
    "\n",
    "print(f\"Name: {bike1.name}, Gears: {bike1.gear} \")"
   ]
  },
  {
   "cell_type": "code",
   "execution_count": null,
   "id": "b03511fc-3d7b-4644-8c60-c3361ffb2b44",
   "metadata": {},
   "outputs": [],
   "source": [
    "# Q2. Name the four pillars of OOPs."
   ]
  },
  {
   "cell_type": "code",
   "execution_count": null,
   "id": "d2c5a909-d7ce-43e6-8f23-06d1be3a67b7",
   "metadata": {},
   "outputs": [],
   "source": [
    "# ans 2:-\n",
    "inheritance \n",
    "polymorphism\n",
    "Encapsulation\n",
    "Abstraction"
   ]
  },
  {
   "cell_type": "code",
   "execution_count": null,
   "id": "c2294ab6-4a41-4ccd-8cc4-defb0f48fc2b",
   "metadata": {},
   "outputs": [],
   "source": [
    "# Q3. Explain why the __init__() function is used. Give a suitable example."
   ]
  },
  {
   "cell_type": "code",
   "execution_count": null,
   "id": "acebd5fb-ebe0-4af6-b17e-e3e6ebce8e4d",
   "metadata": {},
   "outputs": [],
   "source": [
    "To understand the meaning of classes we have to understand the built-in __init__() function.\n",
    "\n",
    "All classes have a function called __init__(), which is always executed when the class is being initiated.\n",
    "\n",
    "Use the __init__() function to assign values to object properties, or other operations that are necessary to do when the object is being created:\n",
    "class Person:\n",
    "  def __init__(self, name, age):\n",
    "    self.name = name\n",
    "    self.age = age\n",
    "\n",
    "p1 = Person(\"John\", 36)\n",
    "\n",
    "print(p1.name)\n",
    "print(p1.age)"
   ]
  },
  {
   "cell_type": "code",
   "execution_count": null,
   "id": "ab98ba2d-4d12-4074-a64c-fe032e5a7c04",
   "metadata": {},
   "outputs": [],
   "source": [
    "# Q4.Why self is used in OOPs?"
   ]
  },
  {
   "cell_type": "code",
   "execution_count": null,
   "id": "8daeda15-ffab-4f33-9f9a-5fb3b2c28bd7",
   "metadata": {},
   "outputs": [],
   "source": [
    "The self parameter is a reference to the current instance of the class, and is used to access variables that belongs to the class.\n",
    "\n",
    "It does not have to be named self , you can call it whatever you like, but it has to be the first parameter of any function in the class:\n",
    "    class Person:\n",
    "  def __init__(mysillyobject, name, age):\n",
    "    mysillyobject.name = name\n",
    "    mysillyobject.age = age\n",
    "\n",
    "  def myfunc(abc):\n",
    "    print(\"Hello my name is \" + abc.name)\n",
    "\n",
    "p1 = Person(\"John\", 36)\n",
    "p1.myfunc()"
   ]
  },
  {
   "cell_type": "code",
   "execution_count": null,
   "id": "2f8cdd51-e68a-4d81-b752-4b08aafcf35c",
   "metadata": {},
   "outputs": [],
   "source": [
    "# Q5. What is inheritance? Give an example for each type of inheritance."
   ]
  },
  {
   "cell_type": "code",
   "execution_count": null,
   "id": "fc2d02c8-8854-440d-98b9-e910962818d9",
   "metadata": {},
   "outputs": [],
   "source": [
    "types of inheritance in python \n",
    "1.Single inheritance\n",
    "Single inheritance enables a derived class to inherit properties from a single parent class, thus enabling code reusability and the addition of new features to existing code.\n",
    "\n",
    "class Parent:\n",
    "    def func1(self):\n",
    "        print(\"this function is in parent class\")\n",
    "\n",
    "class child(Parent):\n",
    "    def func2(self):\n",
    "        print(\"This function is in child class\")\n",
    "\n",
    "object = Child()\n",
    "object.func1()\n",
    "object.func2()"
   ]
  },
  {
   "cell_type": "code",
   "execution_count": null,
   "id": "fd1daa6c-25ff-407b-ac2e-1b78dd49a611",
   "metadata": {},
   "outputs": [],
   "source": [
    "2.Multiple inheritance\n",
    "When a class can be derived from more than one base class this type of inheritance is called multiple inheritances. In multiple inheritances, all the features of the base classes are inherited into the derived class. \n",
    "\n",
    "class Mother:\n",
    "    mothername=\"\"\n",
    "    \n",
    "    def mother(self):\n",
    "        print(self.mothername)\n",
    "\n",
    "class Father:\n",
    "    fathername=\"\"\n",
    "    def father(self):\n",
    "        print(self.fathername)\n",
    "\n",
    "class Son(Mother,Father):\n",
    "    def parent(self):\n",
    "        print(\"Father :\",self.fathername)\n",
    "        print(\"Mother :\",self.mothername)\n",
    "        \n",
    "s1=Son()\n",
    "s1.fathername=\"ram\"\n",
    "s1.mothername=\"sita\"\n",
    "s1.parents()"
   ]
  }
 ],
 "metadata": {
  "kernelspec": {
   "display_name": "Python 3 (ipykernel)",
   "language": "python",
   "name": "python3"
  },
  "language_info": {
   "codemirror_mode": {
    "name": "ipython",
    "version": 3
   },
   "file_extension": ".py",
   "mimetype": "text/x-python",
   "name": "python",
   "nbconvert_exporter": "python",
   "pygments_lexer": "ipython3",
   "version": "3.10.8"
  }
 },
 "nbformat": 4,
 "nbformat_minor": 5
}
