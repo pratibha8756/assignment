{
 "cells": [
  {
   "cell_type": "code",
   "execution_count": null,
   "id": "2968592f-83a1-4f23-b161-dd3bc6c94142",
   "metadata": {},
   "outputs": [],
   "source": [
    "# Q1. Which keyword is used to create a function? Create a function to return a list of odd numbers in the\n",
    "# range of 1 to 25."
   ]
  },
  {
   "cell_type": "code",
   "execution_count": null,
   "id": "7febdb58-3254-4a0f-87ea-3da4fc328e09",
   "metadata": {},
   "outputs": [],
   "source": [
    "# ans 1\n",
    "def test():\n",
    "    i=1\n",
    "    while(i<=25):\n",
    "        if(i%2!=0):\n",
    "            print(i)\n",
    "        i=i+1\n",
    "    \n",
    "test()\n"
   ]
  },
  {
   "cell_type": "code",
   "execution_count": null,
   "id": "823d6eb7-552b-4cbd-b515-1cb91e5a99f4",
   "metadata": {},
   "outputs": [],
   "source": [
    "# Q2. Why *args and **kwargs is used in some functions? Create a function each for *args and **kwargs\n",
    "# to demonstrate their use."
   ]
  },
  {
   "cell_type": "code",
   "execution_count": null,
   "id": "87089f96-61dc-4f00-b2f9-4bb44cd5072c",
   "metadata": {},
   "outputs": [],
   "source": [
    "# ans 2\n",
    "Special Symbols Used for passing arguments:-\n",
    "\n",
    "*args (Non-Keyword Arguments)\n",
    "**kwargs (Keyword Arguments)\n",
    "What is Python *args ?\n",
    "The special syntax *args in function definitions in python is used to pass a variable number of arguments to a function. It is used to pass a non-key worded, variable-length argument list. \n",
    "\n",
    "-The syntax is to use the symbol * to take in a variable number of arguments; by convention, it is often used with the word args.\n",
    "-What *args allows you to do is take in more arguments than the number of formal arguments that you previously defined. With *args, any number of extra arguments can be tacked on to your current formal parameters (including zero extra arguments).\n",
    "-For example, we want to make a multiply function that takes any number of arguments and is able to multiply them all together. It can be done using *args.\n",
    "-Using the *, the variable that we associate with the * becomes an iterable meaning you can do things like iterate over it, run some higher-order functions such as map and filter, etc.\n",
    "\n",
    "def myFun(*argv):\n",
    "    for arg in argv:\n",
    "        print(arg)\n",
    "  \n",
    "  \n",
    "myFun('Hello', 'Welcome', 'to', 'PW skills')\n",
    "\n",
    "What is Python **kwargs\n",
    "The special syntax **kwargs in function definitions in python is used to pass a keyworded, variable-length argument list. We use the name kwargs with the double star. The reason is that the double star allows us to pass through keyword arguments (and any number of them).\n",
    "\n",
    "--A keyword argument is where you provide a name to the variable as you pass it into the function.\n",
    "--One can think of the kwargs as being a dictionary that maps each keyword to the value that we pass alongside it. That is why when we iterate over the kwargs there doesn’t seem to be any order in which they were printed out.\n",
    "\n",
    "def myFun(**kwargs):\n",
    "\tfor key, value in kwargs.items():\n",
    "\t\tprint(\"%s == %s\" % (key, value))\n",
    "\n",
    "\n",
    "# Driver code\n",
    "myFun(first='pratibha', mid='for', last='yadav')\n"
   ]
  },
  {
   "cell_type": "code",
   "execution_count": null,
   "id": "6e0dfe70-f01f-4d89-b0e0-b1c399cd80b9",
   "metadata": {},
   "outputs": [],
   "source": [
    "# Q3. What is an iterator in python? Name the method used to initialise the iterator object and the method\n",
    "# used for iteration. Use these methods to print the first five elements of the given list [2, 4, 6, 8, 10, 12, 14,\n",
    "# 16, 18, 20]."
   ]
  },
  {
   "cell_type": "code",
   "execution_count": null,
   "id": "ccb386aa-a140-4c61-b58b-476981dea873",
   "metadata": {},
   "outputs": [],
   "source": [
    "1.__iter__(): The iter() method is called for the initialization of an iterator. This returns an iterator object\n",
    "2.__next__(): The next method returns the next value for the iterable. When we use a for loop to traverse any iterable object, \n",
    "internally it uses the iter() method to get an iterator object, which further uses the next() method to iterate over.\n",
    "This method raises a StopIteration to signal the end of the iteration.\n",
    "\n",
    "lists=[2,4,6,8,10,12,14,16,18,20]\n",
    "for i in lists:\n",
    "    print(i)\n",
    "    "
   ]
  },
  {
   "cell_type": "code",
   "execution_count": null,
   "id": "09439757-553b-452b-afe0-07b1389601f3",
   "metadata": {},
   "outputs": [],
   "source": [
    "# ans 3\n",
    "An iterator is an object that contains a countable number of values.\n",
    "\n",
    "An iterator is an object that can be iterated upon, meaning that you can traverse through all the values.\n",
    "\n",
    "Technically, in Python, an iterator is an object which implements the iterator protocol, which consist of the methods __iter__() and __next__()"
   ]
  },
  {
   "cell_type": "code",
   "execution_count": null,
   "id": "2fc34ef5-5de3-4af6-bac7-6a31cd6a98d4",
   "metadata": {},
   "outputs": [],
   "source": [
    "# Q4. What is a generator function in python? Why yield keyword is used? Give an example of a generator\n",
    "# function."
   ]
  },
  {
   "cell_type": "code",
   "execution_count": null,
   "id": "ce6a83f0-6a48-47cc-bce3-3e31d01e1c2c",
   "metadata": {},
   "outputs": [],
   "source": [
    "# ans 4\n",
    "In Python, similar to defining a normal function, \n",
    "we can define a generator function using the def keyword, but instead of the return statement we use the yield statement."
   ]
  },
  {
   "cell_type": "code",
   "execution_count": null,
   "id": "12dfabd9-8904-4832-ae20-cb5f4bee104b",
   "metadata": {},
   "outputs": [],
   "source": [
    "# Q5. Create a generator function for prime numbers less than 1000. Use the next() method to print the\n",
    "# first 20 prime numbers."
   ]
  },
  {
   "cell_type": "code",
   "execution_count": null,
   "id": "1889adc9-48af-4bc4-ac65-6752585b2efc",
   "metadata": {},
   "outputs": [],
   "source": [
    "ln layman terms, the yield keyword will turn any expression that is given with it into a generator object and return it to the caller. \n",
    "Therefore, you must iterate over the generator object if you wish to obtain the values stored there. we will see the yield python example.\n",
    "def gen_func(x):\n",
    "    for i in range(x):\n",
    "        yield i"
   ]
  },
  {
   "cell_type": "code",
   "execution_count": null,
   "id": "01e1d02a-dc5e-47b3-b8f5-3d969fd6a60d",
   "metadata": {},
   "outputs": [],
   "source": [
    "# Q6. Write a python program to print the first 10 Fibonacci numbers using a while loop."
   ]
  },
  {
   "cell_type": "code",
   "execution_count": null,
   "id": "d9107ad5-66dc-491f-860c-5961500cb3ff",
   "metadata": {},
   "outputs": [],
   "source": [
    "n=int(input(\"how many terms the user to print\"))\n",
    "n1=0\n",
    "n2=1\n",
    "count=0\n",
    "if(n<=0):\n",
    "    print(\"please enter a positive int the given nun is not valid\")\n",
    "elif(n==1):\n",
    "    print(\"the fibonacci sequence of num upto\",n)\n",
    "    print(n1)\n",
    "else:\n",
    "    print(\"The fibonacci squence of the num is:\")\n",
    "\n",
    "while(count<n):\n",
    "    print(n1)\n",
    "    nth=n1+n2\n",
    "    n1=n2\n",
    "    n2=nth\n",
    "    count=count+1"
   ]
  },
  {
   "cell_type": "code",
   "execution_count": null,
   "id": "136f3a55-2a89-47a1-b0d8-0e2ee52cf234",
   "metadata": {},
   "outputs": [],
   "source": [
    "# Q7. Write a List Comprehension to iterate through the given string: ‘pwskills’.\n",
    "# Expected output: ['p', 'w', 's', 'k', 'i', 'l', 'l', 's']"
   ]
  },
  {
   "cell_type": "code",
   "execution_count": null,
   "id": "19c0af5e-6fb2-495d-aaa5-5cfe4cb7c1a9",
   "metadata": {},
   "outputs": [],
   "source": [
    "x=\"pwskills\"\n",
    "even=[i for i in x]\n",
    "print(even)"
   ]
  },
  {
   "cell_type": "code",
   "execution_count": null,
   "id": "8f21cb09-8938-4bf9-9791-1e9f512d9bf6",
   "metadata": {},
   "outputs": [],
   "source": [
    "# Q8. Write a python program to check whether a given number is Palindrome or not using a while loop."
   ]
  },
  {
   "cell_type": "code",
   "execution_count": 4,
   "id": "f4f087a0-fda4-425a-b582-31af7239c0c3",
   "metadata": {},
   "outputs": [
    {
     "name": "stdin",
     "output_type": "stream",
     "text": [
      "enter any num 121\n"
     ]
    },
    {
     "name": "stdout",
     "output_type": "stream",
     "text": [
      "Not a palidrome\n",
      "Not a palidrome\n",
      "The {0} num is palidrome  121\n"
     ]
    }
   ],
   "source": [
    "# ans 8\n",
    "num=int (input(\"enter any num\"))\n",
    "temp=num\n",
    "rev=0\n",
    "while(num>0):\n",
    "    dig=num%10\n",
    "    rev=rev*10+dig\n",
    "    num=num//10\n",
    "    if(temp==rev):\n",
    "        print(\"The {0} num is palidrome \",format(temp))\n",
    "    else:\n",
    "        print(\"Not a palidrome\")"
   ]
  },
  {
   "cell_type": "code",
   "execution_count": null,
   "id": "615bfc9a-35ab-4fc4-ab55-3df9c1efc834",
   "metadata": {},
   "outputs": [],
   "source": []
  }
 ],
 "metadata": {
  "kernelspec": {
   "display_name": "Python 3 (ipykernel)",
   "language": "python",
   "name": "python3"
  },
  "language_info": {
   "codemirror_mode": {
    "name": "ipython",
    "version": 3
   },
   "file_extension": ".py",
   "mimetype": "text/x-python",
   "name": "python",
   "nbconvert_exporter": "python",
   "pygments_lexer": "ipython3",
   "version": "3.10.8"
  }
 },
 "nbformat": 4,
 "nbformat_minor": 5
}
