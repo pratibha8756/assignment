{
 "cells": [
  {
   "cell_type": "code",
   "execution_count": null,
   "id": "9348d87c-8b36-4beb-80a0-6a5c97381c94",
   "metadata": {},
   "outputs": [],
   "source": [
    "# Q1. Explain with an example each when to use a for loop and a while loop.\n",
    "# ans:-Use a for loop when you know the loop should execute n times. Use a while loop for reading a file into a variable. Use a while loop when asking for user input. Use a while loop when the increment value is nonstandard\n",
    "# syntax:"
   ]
  },
  {
   "cell_type": "code",
   "execution_count": null,
   "id": "217da584-6919-4485-99d8-ed5007358d7a",
   "metadata": {},
   "outputs": [],
   "source": [
    "n = [1, 2, 3]  # Initialization\n",
    "for i in n:  # Condition and Updation\n",
    "    print(i)"
   ]
  },
  {
   "cell_type": "code",
   "execution_count": null,
   "id": "7d04af1a-ac08-4545-9855-87d822c56470",
   "metadata": {},
   "outputs": [],
   "source": [
    "i = 1  # Initialization\n",
    "while i < 10:  # Condition\n",
    "    print(i)\n",
    "    i += 1  # Updation"
   ]
  },
  {
   "cell_type": "code",
   "execution_count": null,
   "id": "faa93495-fc7a-46b6-b888-9e11ddd41782",
   "metadata": {},
   "outputs": [],
   "source": [
    "# Q2. Write a python program to print the sum and product of the first 10 natural numbers using for\n",
    "# and while loop."
   ]
  },
  {
   "cell_type": "code",
   "execution_count": null,
   "id": "8d8b83ac-267a-4475-be5d-8efe845b03c5",
   "metadata": {},
   "outputs": [],
   "source": [
    "result=0\n",
    "i=1\n",
    "while i <10:\n",
    "    print(i)\n",
    "    # result = result+1  \n",
    "    i+=1\n",
    "print(result)"
   ]
  },
  {
   "cell_type": "code",
   "execution_count": null,
   "id": "c9620d44-df4d-451a-9bbb-96698dfcc684",
   "metadata": {},
   "outputs": [],
   "source": [
    "result=1\n",
    "i=1\n",
    "while i <=10:\n",
    "    \n",
    "    result = result*i\n",
    "    i+=1\n",
    "print(result)"
   ]
  },
  {
   "cell_type": "code",
   "execution_count": null,
   "id": "df4190fa-d75d-4c06-aab6-1e82588b5641",
   "metadata": {},
   "outputs": [],
   "source": [
    "Q3. Create a python program to compute the electricity bill for a household.\n",
    "The per-unit charges in rupees are as follows: For the first 100 units, the user will be charged Rs. 4.5 per\n",
    "unit, for the next 100 units, the user will be charged Rs. 6 per unit, and for the next 100 units, the user will\n",
    "be charged Rs. 10 per unit, After 300 units and above the user will be charged Rs. 20 per unit.\n",
    "You are required to take the units of electricity consumed in a month from the user as input."
   ]
  },
  {
   "cell_type": "code",
   "execution_count": null,
   "id": "451261b8-2b43-4a0e-ae04-bf7ca817ce6b",
   "metadata": {},
   "outputs": [],
   "source": [
    "bill=0\n",
    "unit=int(input(\"enter your unit \"))\n",
    "if(unit<=100):\n",
    "    print(unit*4.5)\n",
    "elif (unit<=200):\n",
    "    bill=(100*4.5)+(unit-100)*6\n",
    "    print(bill)\n",
    "elif(unit<=300):\n",
    "    bill=(100*4.5)+(200-100)*6+(unit-200)*10\n",
    "    print(bill)\n",
    "else:\n",
    "    bill=(100*4.5)+(200-100)*6+(300-200)*10+(unit-300)*20\n",
    "    print(bill)"
   ]
  },
  {
   "cell_type": "code",
   "execution_count": null,
   "id": "265e9266-6222-4a9f-b86c-103ee0ee7aa5",
   "metadata": {},
   "outputs": [],
   "source": [
    "Q4. Create a list of numbers from 1 to 100. Use for loop and while loop to calculate the cube of each\n",
    "number and if the cube of that number is divisible by 4 or 5 then append that number in a list and print\n",
    "that list."
   ]
  },
  {
   "cell_type": "code",
   "execution_count": null,
   "id": "519a61c7-5143-4bf2-9d32-46faf4e7f214",
   "metadata": {},
   "outputs": [],
   "source": [
    "l=[i for i in range(1,101)]\n",
    "l1=[]\n",
    "for i in l:\n",
    "    cube=i**3\n",
    "    if cube%4==0 or cube%5==0:\n",
    "        l1.append(cube)\n",
    "l1"
   ]
  },
  {
   "cell_type": "code",
   "execution_count": null,
   "id": "6bdea759-5f4b-4a2e-b0c3-2668429bff30",
   "metadata": {},
   "outputs": [],
   "source": [
    "# ans 5///\n",
    "count=0\n",
    "string=\"i want to become a data scientist\"\n",
    "for i in range(len(string)):\n",
    "    if(string[i] == \"a\" or string[i] == \"e\" or string[i] == \"i\" or string[i] == \"o\" or string[i]==\"u\" or string[i] == \"A\" or string[i] ==\"E\" or string[i] == \"I\" or string[i] == \"O\" or string[i]==\"U\"):\n",
    "        count=count+1;\n",
    "        \n",
    "print(count)\n",
    "\n",
    "    "
   ]
  }
 ],
 "metadata": {
  "kernelspec": {
   "display_name": "Python 3 (ipykernel)",
   "language": "python",
   "name": "python3"
  },
  "language_info": {
   "codemirror_mode": {
    "name": "ipython",
    "version": 3
   },
   "file_extension": ".py",
   "mimetype": "text/x-python",
   "name": "python",
   "nbconvert_exporter": "python",
   "pygments_lexer": "ipython3",
   "version": "3.10.8"
  }
 },
 "nbformat": 4,
 "nbformat_minor": 5
}
